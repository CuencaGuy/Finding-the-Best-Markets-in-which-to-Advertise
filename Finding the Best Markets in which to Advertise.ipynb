{
 "cells": [
  {
   "cell_type": "markdown",
   "metadata": {},
   "source": [
    "# Finding the Best Markets in which to Advertise\n",
    "\n",
    "We work for an e-learning company that offers courses on programming. Our goal in this analysis is to find the two best markets in which to advertise our product. Most of our courses are on web and mobile development, and we sell subscriptions for $59 per month. The best countries for advertisement would be those with the most students willing to pay our monthly fee, and it is a bonus if they are interested in web and mobile development as that is our area of emphasis."
   ]
  },
  {
   "cell_type": "markdown",
   "metadata": {},
   "source": [
    "## Understanding the Data\n",
    "\n",
    "For our analysis, we will be using [freeCodeCamp's 2017 New Coder Survey](https://www.freecodecamp.org/news/we-asked-20-000-people-who-they-are-and-how-theyre-learning-to-code-fff5d668969). [freeCodeCamp](https://www.freecodecamp.org/) is a popular, free e-learning platform that offers courses in web development and other programming areas. The site is very popular, and their survey had over 18,000 respondents, all of whom were relatively new to coding. This survey should work well for our analysis, and is available [here](https://github.com/freeCodeCamp/2017-new-coder-survey).\n",
    "\n",
    "We'll begin by reading in the data and examining the resultant dataframe."
   ]
  },
  {
   "cell_type": "code",
   "execution_count": 1,
   "metadata": {
    "collapsed": false
   },
   "outputs": [
    {
     "name": "stdout",
     "output_type": "stream",
     "text": [
      "<class 'pandas.core.frame.DataFrame'>\n",
      "RangeIndex: 18175 entries, 0 to 18174\n",
      "Columns: 136 entries, Age to YouTubeTheNewBoston\n",
      "dtypes: float64(105), object(31)\n",
      "memory usage: 18.9+ MB\n"
     ]
    }
   ],
   "source": [
    "import pandas as pd\n",
    "import numpy as np\n",
    "import matplotlib.pyplot as plt\n",
    "import seaborn as sns\n",
    "%matplotlib inline\n",
    "\n",
    "survey = pd.read_csv('2017-fCC-New-Coders-Survey-Data.csv', low_memory=False)\n",
    "survey.info()"
   ]
  },
  {
   "cell_type": "code",
   "execution_count": 2,
   "metadata": {
    "collapsed": false
   },
   "outputs": [
    {
     "data": {
      "text/html": [
       "<div>\n",
       "<style scoped>\n",
       "    .dataframe tbody tr th:only-of-type {\n",
       "        vertical-align: middle;\n",
       "    }\n",
       "\n",
       "    .dataframe tbody tr th {\n",
       "        vertical-align: top;\n",
       "    }\n",
       "\n",
       "    .dataframe thead th {\n",
       "        text-align: right;\n",
       "    }\n",
       "</style>\n",
       "<table border=\"1\" class=\"dataframe\">\n",
       "  <thead>\n",
       "    <tr style=\"text-align: right;\">\n",
       "      <th></th>\n",
       "      <th>Age</th>\n",
       "      <th>AttendedBootcamp</th>\n",
       "      <th>BootcampFinish</th>\n",
       "      <th>BootcampLoanYesNo</th>\n",
       "      <th>BootcampName</th>\n",
       "      <th>BootcampRecommend</th>\n",
       "      <th>ChildrenNumber</th>\n",
       "      <th>CityPopulation</th>\n",
       "      <th>CodeEventConferences</th>\n",
       "      <th>CodeEventDjangoGirls</th>\n",
       "      <th>CodeEventFCC</th>\n",
       "      <th>CodeEventGameJam</th>\n",
       "      <th>CodeEventGirlDev</th>\n",
       "      <th>CodeEventHackathons</th>\n",
       "      <th>CodeEventMeetup</th>\n",
       "      <th>CodeEventNodeSchool</th>\n",
       "      <th>CodeEventNone</th>\n",
       "      <th>CodeEventOther</th>\n",
       "      <th>CodeEventRailsBridge</th>\n",
       "      <th>CodeEventRailsGirls</th>\n",
       "      <th>CodeEventStartUpWknd</th>\n",
       "      <th>CodeEventWkdBootcamps</th>\n",
       "      <th>CodeEventWomenCode</th>\n",
       "      <th>CodeEventWorkshops</th>\n",
       "      <th>CommuteTime</th>\n",
       "      <th>CountryCitizen</th>\n",
       "      <th>CountryLive</th>\n",
       "      <th>EmploymentField</th>\n",
       "      <th>EmploymentFieldOther</th>\n",
       "      <th>EmploymentStatus</th>\n",
       "      <th>EmploymentStatusOther</th>\n",
       "      <th>ExpectedEarning</th>\n",
       "      <th>FinanciallySupporting</th>\n",
       "      <th>FirstDevJob</th>\n",
       "      <th>Gender</th>\n",
       "      <th>GenderOther</th>\n",
       "      <th>HasChildren</th>\n",
       "      <th>HasDebt</th>\n",
       "      <th>HasFinancialDependents</th>\n",
       "      <th>HasHighSpdInternet</th>\n",
       "      <th>HasHomeMortgage</th>\n",
       "      <th>HasServedInMilitary</th>\n",
       "      <th>HasStudentDebt</th>\n",
       "      <th>HomeMortgageOwe</th>\n",
       "      <th>HoursLearning</th>\n",
       "      <th>ID.x</th>\n",
       "      <th>ID.y</th>\n",
       "      <th>Income</th>\n",
       "      <th>IsEthnicMinority</th>\n",
       "      <th>IsReceiveDisabilitiesBenefits</th>\n",
       "      <th>IsSoftwareDev</th>\n",
       "      <th>IsUnderEmployed</th>\n",
       "      <th>JobApplyWhen</th>\n",
       "      <th>JobInterestBackEnd</th>\n",
       "      <th>JobInterestDataEngr</th>\n",
       "      <th>JobInterestDataSci</th>\n",
       "      <th>JobInterestDevOps</th>\n",
       "      <th>JobInterestFrontEnd</th>\n",
       "      <th>JobInterestFullStack</th>\n",
       "      <th>JobInterestGameDev</th>\n",
       "      <th>JobInterestInfoSec</th>\n",
       "      <th>JobInterestMobile</th>\n",
       "      <th>JobInterestOther</th>\n",
       "      <th>JobInterestProjMngr</th>\n",
       "      <th>JobInterestQAEngr</th>\n",
       "      <th>JobInterestUX</th>\n",
       "      <th>JobPref</th>\n",
       "      <th>JobRelocateYesNo</th>\n",
       "      <th>JobRoleInterest</th>\n",
       "      <th>JobWherePref</th>\n",
       "      <th>LanguageAtHome</th>\n",
       "      <th>MaritalStatus</th>\n",
       "      <th>MoneyForLearning</th>\n",
       "      <th>MonthsProgramming</th>\n",
       "      <th>NetworkID</th>\n",
       "      <th>Part1EndTime</th>\n",
       "      <th>Part1StartTime</th>\n",
       "      <th>Part2EndTime</th>\n",
       "      <th>Part2StartTime</th>\n",
       "      <th>PodcastChangeLog</th>\n",
       "      <th>PodcastCodeNewbie</th>\n",
       "      <th>PodcastCodePen</th>\n",
       "      <th>PodcastDevTea</th>\n",
       "      <th>PodcastDotNET</th>\n",
       "      <th>PodcastGiantRobots</th>\n",
       "      <th>PodcastJSAir</th>\n",
       "      <th>PodcastJSJabber</th>\n",
       "      <th>PodcastNone</th>\n",
       "      <th>PodcastOther</th>\n",
       "      <th>PodcastProgThrowdown</th>\n",
       "      <th>PodcastRubyRogues</th>\n",
       "      <th>PodcastSEDaily</th>\n",
       "      <th>PodcastSERadio</th>\n",
       "      <th>PodcastShopTalk</th>\n",
       "      <th>PodcastTalkPython</th>\n",
       "      <th>PodcastTheWebAhead</th>\n",
       "      <th>ResourceCodecademy</th>\n",
       "      <th>ResourceCodeWars</th>\n",
       "      <th>ResourceCoursera</th>\n",
       "      <th>ResourceCSS</th>\n",
       "      <th>ResourceEdX</th>\n",
       "      <th>ResourceEgghead</th>\n",
       "      <th>ResourceFCC</th>\n",
       "      <th>ResourceHackerRank</th>\n",
       "      <th>ResourceKA</th>\n",
       "      <th>ResourceLynda</th>\n",
       "      <th>ResourceMDN</th>\n",
       "      <th>ResourceOdinProj</th>\n",
       "      <th>ResourceOther</th>\n",
       "      <th>ResourcePluralSight</th>\n",
       "      <th>ResourceSkillcrush</th>\n",
       "      <th>ResourceSO</th>\n",
       "      <th>ResourceTreehouse</th>\n",
       "      <th>ResourceUdacity</th>\n",
       "      <th>ResourceUdemy</th>\n",
       "      <th>ResourceW3S</th>\n",
       "      <th>SchoolDegree</th>\n",
       "      <th>SchoolMajor</th>\n",
       "      <th>StudentDebtOwe</th>\n",
       "      <th>YouTubeCodeCourse</th>\n",
       "      <th>YouTubeCodingTrain</th>\n",
       "      <th>YouTubeCodingTut360</th>\n",
       "      <th>YouTubeComputerphile</th>\n",
       "      <th>YouTubeDerekBanas</th>\n",
       "      <th>YouTubeDevTips</th>\n",
       "      <th>YouTubeEngineeredTruth</th>\n",
       "      <th>YouTubeFCC</th>\n",
       "      <th>YouTubeFunFunFunction</th>\n",
       "      <th>YouTubeGoogleDev</th>\n",
       "      <th>YouTubeLearnCode</th>\n",
       "      <th>YouTubeLevelUpTuts</th>\n",
       "      <th>YouTubeMIT</th>\n",
       "      <th>YouTubeMozillaHacks</th>\n",
       "      <th>YouTubeOther</th>\n",
       "      <th>YouTubeSimplilearn</th>\n",
       "      <th>YouTubeTheNewBoston</th>\n",
       "    </tr>\n",
       "  </thead>\n",
       "  <tbody>\n",
       "    <tr>\n",
       "      <th>0</th>\n",
       "      <td>27.0</td>\n",
       "      <td>0.0</td>\n",
       "      <td>NaN</td>\n",
       "      <td>NaN</td>\n",
       "      <td>NaN</td>\n",
       "      <td>NaN</td>\n",
       "      <td>NaN</td>\n",
       "      <td>more than 1 million</td>\n",
       "      <td>NaN</td>\n",
       "      <td>NaN</td>\n",
       "      <td>NaN</td>\n",
       "      <td>NaN</td>\n",
       "      <td>NaN</td>\n",
       "      <td>NaN</td>\n",
       "      <td>NaN</td>\n",
       "      <td>NaN</td>\n",
       "      <td>NaN</td>\n",
       "      <td>NaN</td>\n",
       "      <td>NaN</td>\n",
       "      <td>NaN</td>\n",
       "      <td>NaN</td>\n",
       "      <td>NaN</td>\n",
       "      <td>NaN</td>\n",
       "      <td>NaN</td>\n",
       "      <td>15 to 29 minutes</td>\n",
       "      <td>Canada</td>\n",
       "      <td>Canada</td>\n",
       "      <td>software development and IT</td>\n",
       "      <td>NaN</td>\n",
       "      <td>Employed for wages</td>\n",
       "      <td>NaN</td>\n",
       "      <td>NaN</td>\n",
       "      <td>NaN</td>\n",
       "      <td>NaN</td>\n",
       "      <td>female</td>\n",
       "      <td>NaN</td>\n",
       "      <td>NaN</td>\n",
       "      <td>1.0</td>\n",
       "      <td>0.0</td>\n",
       "      <td>1.0</td>\n",
       "      <td>0.0</td>\n",
       "      <td>0.0</td>\n",
       "      <td>0.0</td>\n",
       "      <td>NaN</td>\n",
       "      <td>15.0</td>\n",
       "      <td>02d9465b21e8bd09374b0066fb2d5614</td>\n",
       "      <td>eb78c1c3ac6cd9052aec557065070fbf</td>\n",
       "      <td>NaN</td>\n",
       "      <td>NaN</td>\n",
       "      <td>0.0</td>\n",
       "      <td>0.0</td>\n",
       "      <td>0.0</td>\n",
       "      <td>NaN</td>\n",
       "      <td>NaN</td>\n",
       "      <td>NaN</td>\n",
       "      <td>NaN</td>\n",
       "      <td>NaN</td>\n",
       "      <td>NaN</td>\n",
       "      <td>NaN</td>\n",
       "      <td>NaN</td>\n",
       "      <td>NaN</td>\n",
       "      <td>NaN</td>\n",
       "      <td>NaN</td>\n",
       "      <td>NaN</td>\n",
       "      <td>NaN</td>\n",
       "      <td>NaN</td>\n",
       "      <td>start your own business</td>\n",
       "      <td>NaN</td>\n",
       "      <td>NaN</td>\n",
       "      <td>NaN</td>\n",
       "      <td>English</td>\n",
       "      <td>married or domestic partnership</td>\n",
       "      <td>150.0</td>\n",
       "      <td>6.0</td>\n",
       "      <td>6f1fbc6b2b</td>\n",
       "      <td>2017-03-09 00:36:22</td>\n",
       "      <td>2017-03-09 00:32:59</td>\n",
       "      <td>2017-03-09 00:59:46</td>\n",
       "      <td>2017-03-09 00:36:26</td>\n",
       "      <td>NaN</td>\n",
       "      <td>NaN</td>\n",
       "      <td>NaN</td>\n",
       "      <td>1.0</td>\n",
       "      <td>NaN</td>\n",
       "      <td>NaN</td>\n",
       "      <td>NaN</td>\n",
       "      <td>NaN</td>\n",
       "      <td>NaN</td>\n",
       "      <td>NaN</td>\n",
       "      <td>NaN</td>\n",
       "      <td>NaN</td>\n",
       "      <td>NaN</td>\n",
       "      <td>NaN</td>\n",
       "      <td>NaN</td>\n",
       "      <td>NaN</td>\n",
       "      <td>NaN</td>\n",
       "      <td>1.0</td>\n",
       "      <td>NaN</td>\n",
       "      <td>NaN</td>\n",
       "      <td>NaN</td>\n",
       "      <td>NaN</td>\n",
       "      <td>NaN</td>\n",
       "      <td>1.0</td>\n",
       "      <td>NaN</td>\n",
       "      <td>NaN</td>\n",
       "      <td>NaN</td>\n",
       "      <td>1.0</td>\n",
       "      <td>NaN</td>\n",
       "      <td>NaN</td>\n",
       "      <td>NaN</td>\n",
       "      <td>NaN</td>\n",
       "      <td>NaN</td>\n",
       "      <td>NaN</td>\n",
       "      <td>NaN</td>\n",
       "      <td>1.0</td>\n",
       "      <td>1.0</td>\n",
       "      <td>some college credit, no degree</td>\n",
       "      <td>NaN</td>\n",
       "      <td>NaN</td>\n",
       "      <td>NaN</td>\n",
       "      <td>NaN</td>\n",
       "      <td>NaN</td>\n",
       "      <td>NaN</td>\n",
       "      <td>NaN</td>\n",
       "      <td>NaN</td>\n",
       "      <td>NaN</td>\n",
       "      <td>NaN</td>\n",
       "      <td>NaN</td>\n",
       "      <td>NaN</td>\n",
       "      <td>NaN</td>\n",
       "      <td>NaN</td>\n",
       "      <td>NaN</td>\n",
       "      <td>NaN</td>\n",
       "      <td>NaN</td>\n",
       "      <td>NaN</td>\n",
       "      <td>NaN</td>\n",
       "    </tr>\n",
       "    <tr>\n",
       "      <th>1</th>\n",
       "      <td>34.0</td>\n",
       "      <td>0.0</td>\n",
       "      <td>NaN</td>\n",
       "      <td>NaN</td>\n",
       "      <td>NaN</td>\n",
       "      <td>NaN</td>\n",
       "      <td>NaN</td>\n",
       "      <td>less than 100,000</td>\n",
       "      <td>NaN</td>\n",
       "      <td>NaN</td>\n",
       "      <td>NaN</td>\n",
       "      <td>NaN</td>\n",
       "      <td>NaN</td>\n",
       "      <td>NaN</td>\n",
       "      <td>NaN</td>\n",
       "      <td>NaN</td>\n",
       "      <td>NaN</td>\n",
       "      <td>NaN</td>\n",
       "      <td>NaN</td>\n",
       "      <td>NaN</td>\n",
       "      <td>NaN</td>\n",
       "      <td>NaN</td>\n",
       "      <td>NaN</td>\n",
       "      <td>NaN</td>\n",
       "      <td>NaN</td>\n",
       "      <td>United States of America</td>\n",
       "      <td>United States of America</td>\n",
       "      <td>NaN</td>\n",
       "      <td>NaN</td>\n",
       "      <td>Not working but looking for work</td>\n",
       "      <td>NaN</td>\n",
       "      <td>35000.0</td>\n",
       "      <td>NaN</td>\n",
       "      <td>NaN</td>\n",
       "      <td>male</td>\n",
       "      <td>NaN</td>\n",
       "      <td>NaN</td>\n",
       "      <td>1.0</td>\n",
       "      <td>0.0</td>\n",
       "      <td>1.0</td>\n",
       "      <td>0.0</td>\n",
       "      <td>0.0</td>\n",
       "      <td>1.0</td>\n",
       "      <td>NaN</td>\n",
       "      <td>10.0</td>\n",
       "      <td>5bfef9ecb211ec4f518cfc1d2a6f3e0c</td>\n",
       "      <td>21db37adb60cdcafadfa7dca1b13b6b1</td>\n",
       "      <td>NaN</td>\n",
       "      <td>0.0</td>\n",
       "      <td>0.0</td>\n",
       "      <td>0.0</td>\n",
       "      <td>NaN</td>\n",
       "      <td>Within 7 to 12 months</td>\n",
       "      <td>NaN</td>\n",
       "      <td>NaN</td>\n",
       "      <td>NaN</td>\n",
       "      <td>NaN</td>\n",
       "      <td>NaN</td>\n",
       "      <td>1.0</td>\n",
       "      <td>NaN</td>\n",
       "      <td>NaN</td>\n",
       "      <td>NaN</td>\n",
       "      <td>NaN</td>\n",
       "      <td>NaN</td>\n",
       "      <td>NaN</td>\n",
       "      <td>NaN</td>\n",
       "      <td>work for a nonprofit</td>\n",
       "      <td>1.0</td>\n",
       "      <td>Full-Stack Web Developer</td>\n",
       "      <td>in an office with other developers</td>\n",
       "      <td>English</td>\n",
       "      <td>single, never married</td>\n",
       "      <td>80.0</td>\n",
       "      <td>6.0</td>\n",
       "      <td>f8f8be6910</td>\n",
       "      <td>2017-03-09 00:37:07</td>\n",
       "      <td>2017-03-09 00:33:26</td>\n",
       "      <td>2017-03-09 00:38:59</td>\n",
       "      <td>2017-03-09 00:37:10</td>\n",
       "      <td>NaN</td>\n",
       "      <td>1.0</td>\n",
       "      <td>NaN</td>\n",
       "      <td>NaN</td>\n",
       "      <td>NaN</td>\n",
       "      <td>NaN</td>\n",
       "      <td>NaN</td>\n",
       "      <td>NaN</td>\n",
       "      <td>NaN</td>\n",
       "      <td>NaN</td>\n",
       "      <td>NaN</td>\n",
       "      <td>NaN</td>\n",
       "      <td>NaN</td>\n",
       "      <td>NaN</td>\n",
       "      <td>NaN</td>\n",
       "      <td>NaN</td>\n",
       "      <td>NaN</td>\n",
       "      <td>1.0</td>\n",
       "      <td>NaN</td>\n",
       "      <td>NaN</td>\n",
       "      <td>1.0</td>\n",
       "      <td>NaN</td>\n",
       "      <td>NaN</td>\n",
       "      <td>1.0</td>\n",
       "      <td>NaN</td>\n",
       "      <td>NaN</td>\n",
       "      <td>NaN</td>\n",
       "      <td>NaN</td>\n",
       "      <td>NaN</td>\n",
       "      <td>NaN</td>\n",
       "      <td>NaN</td>\n",
       "      <td>NaN</td>\n",
       "      <td>1.0</td>\n",
       "      <td>NaN</td>\n",
       "      <td>NaN</td>\n",
       "      <td>1.0</td>\n",
       "      <td>1.0</td>\n",
       "      <td>some college credit, no degree</td>\n",
       "      <td>NaN</td>\n",
       "      <td>NaN</td>\n",
       "      <td>NaN</td>\n",
       "      <td>NaN</td>\n",
       "      <td>NaN</td>\n",
       "      <td>NaN</td>\n",
       "      <td>NaN</td>\n",
       "      <td>NaN</td>\n",
       "      <td>NaN</td>\n",
       "      <td>1.0</td>\n",
       "      <td>NaN</td>\n",
       "      <td>NaN</td>\n",
       "      <td>NaN</td>\n",
       "      <td>NaN</td>\n",
       "      <td>NaN</td>\n",
       "      <td>NaN</td>\n",
       "      <td>NaN</td>\n",
       "      <td>NaN</td>\n",
       "      <td>NaN</td>\n",
       "    </tr>\n",
       "    <tr>\n",
       "      <th>2</th>\n",
       "      <td>21.0</td>\n",
       "      <td>0.0</td>\n",
       "      <td>NaN</td>\n",
       "      <td>NaN</td>\n",
       "      <td>NaN</td>\n",
       "      <td>NaN</td>\n",
       "      <td>NaN</td>\n",
       "      <td>more than 1 million</td>\n",
       "      <td>NaN</td>\n",
       "      <td>NaN</td>\n",
       "      <td>NaN</td>\n",
       "      <td>NaN</td>\n",
       "      <td>NaN</td>\n",
       "      <td>1.0</td>\n",
       "      <td>NaN</td>\n",
       "      <td>1.0</td>\n",
       "      <td>NaN</td>\n",
       "      <td>NaN</td>\n",
       "      <td>NaN</td>\n",
       "      <td>NaN</td>\n",
       "      <td>NaN</td>\n",
       "      <td>NaN</td>\n",
       "      <td>NaN</td>\n",
       "      <td>NaN</td>\n",
       "      <td>15 to 29 minutes</td>\n",
       "      <td>United States of America</td>\n",
       "      <td>United States of America</td>\n",
       "      <td>software development and IT</td>\n",
       "      <td>NaN</td>\n",
       "      <td>Employed for wages</td>\n",
       "      <td>NaN</td>\n",
       "      <td>70000.0</td>\n",
       "      <td>NaN</td>\n",
       "      <td>NaN</td>\n",
       "      <td>male</td>\n",
       "      <td>NaN</td>\n",
       "      <td>NaN</td>\n",
       "      <td>0.0</td>\n",
       "      <td>0.0</td>\n",
       "      <td>1.0</td>\n",
       "      <td>NaN</td>\n",
       "      <td>0.0</td>\n",
       "      <td>NaN</td>\n",
       "      <td>NaN</td>\n",
       "      <td>25.0</td>\n",
       "      <td>14f1863afa9c7de488050b82eb3edd96</td>\n",
       "      <td>21ba173828fbe9e27ccebaf4d5166a55</td>\n",
       "      <td>13000.0</td>\n",
       "      <td>1.0</td>\n",
       "      <td>0.0</td>\n",
       "      <td>0.0</td>\n",
       "      <td>0.0</td>\n",
       "      <td>Within 7 to 12 months</td>\n",
       "      <td>1.0</td>\n",
       "      <td>NaN</td>\n",
       "      <td>NaN</td>\n",
       "      <td>1.0</td>\n",
       "      <td>1.0</td>\n",
       "      <td>1.0</td>\n",
       "      <td>NaN</td>\n",
       "      <td>NaN</td>\n",
       "      <td>1.0</td>\n",
       "      <td>NaN</td>\n",
       "      <td>NaN</td>\n",
       "      <td>NaN</td>\n",
       "      <td>NaN</td>\n",
       "      <td>work for a medium-sized company</td>\n",
       "      <td>1.0</td>\n",
       "      <td>Front-End Web Developer, Back-End Web Develo...</td>\n",
       "      <td>no preference</td>\n",
       "      <td>Spanish</td>\n",
       "      <td>single, never married</td>\n",
       "      <td>1000.0</td>\n",
       "      <td>5.0</td>\n",
       "      <td>2ed189768e</td>\n",
       "      <td>2017-03-09 00:37:58</td>\n",
       "      <td>2017-03-09 00:33:53</td>\n",
       "      <td>2017-03-09 00:40:14</td>\n",
       "      <td>2017-03-09 00:38:02</td>\n",
       "      <td>1.0</td>\n",
       "      <td>NaN</td>\n",
       "      <td>1.0</td>\n",
       "      <td>NaN</td>\n",
       "      <td>NaN</td>\n",
       "      <td>NaN</td>\n",
       "      <td>NaN</td>\n",
       "      <td>NaN</td>\n",
       "      <td>NaN</td>\n",
       "      <td>Codenewbie</td>\n",
       "      <td>NaN</td>\n",
       "      <td>NaN</td>\n",
       "      <td>NaN</td>\n",
       "      <td>NaN</td>\n",
       "      <td>1.0</td>\n",
       "      <td>NaN</td>\n",
       "      <td>NaN</td>\n",
       "      <td>1.0</td>\n",
       "      <td>NaN</td>\n",
       "      <td>NaN</td>\n",
       "      <td>1.0</td>\n",
       "      <td>NaN</td>\n",
       "      <td>NaN</td>\n",
       "      <td>1.0</td>\n",
       "      <td>NaN</td>\n",
       "      <td>NaN</td>\n",
       "      <td>NaN</td>\n",
       "      <td>1.0</td>\n",
       "      <td>NaN</td>\n",
       "      <td>NaN</td>\n",
       "      <td>NaN</td>\n",
       "      <td>NaN</td>\n",
       "      <td>NaN</td>\n",
       "      <td>NaN</td>\n",
       "      <td>1.0</td>\n",
       "      <td>1.0</td>\n",
       "      <td>NaN</td>\n",
       "      <td>high school diploma or equivalent (GED)</td>\n",
       "      <td>NaN</td>\n",
       "      <td>NaN</td>\n",
       "      <td>NaN</td>\n",
       "      <td>NaN</td>\n",
       "      <td>1.0</td>\n",
       "      <td>NaN</td>\n",
       "      <td>1.0</td>\n",
       "      <td>1.0</td>\n",
       "      <td>NaN</td>\n",
       "      <td>NaN</td>\n",
       "      <td>NaN</td>\n",
       "      <td>NaN</td>\n",
       "      <td>1.0</td>\n",
       "      <td>1.0</td>\n",
       "      <td>NaN</td>\n",
       "      <td>NaN</td>\n",
       "      <td>NaN</td>\n",
       "      <td>NaN</td>\n",
       "      <td>NaN</td>\n",
       "    </tr>\n",
       "    <tr>\n",
       "      <th>3</th>\n",
       "      <td>26.0</td>\n",
       "      <td>0.0</td>\n",
       "      <td>NaN</td>\n",
       "      <td>NaN</td>\n",
       "      <td>NaN</td>\n",
       "      <td>NaN</td>\n",
       "      <td>NaN</td>\n",
       "      <td>between 100,000 and 1 million</td>\n",
       "      <td>NaN</td>\n",
       "      <td>NaN</td>\n",
       "      <td>NaN</td>\n",
       "      <td>NaN</td>\n",
       "      <td>NaN</td>\n",
       "      <td>NaN</td>\n",
       "      <td>NaN</td>\n",
       "      <td>NaN</td>\n",
       "      <td>NaN</td>\n",
       "      <td>NaN</td>\n",
       "      <td>NaN</td>\n",
       "      <td>NaN</td>\n",
       "      <td>NaN</td>\n",
       "      <td>NaN</td>\n",
       "      <td>NaN</td>\n",
       "      <td>NaN</td>\n",
       "      <td>I work from home</td>\n",
       "      <td>Brazil</td>\n",
       "      <td>Brazil</td>\n",
       "      <td>software development and IT</td>\n",
       "      <td>NaN</td>\n",
       "      <td>Employed for wages</td>\n",
       "      <td>NaN</td>\n",
       "      <td>40000.0</td>\n",
       "      <td>0.0</td>\n",
       "      <td>NaN</td>\n",
       "      <td>male</td>\n",
       "      <td>NaN</td>\n",
       "      <td>0.0</td>\n",
       "      <td>1.0</td>\n",
       "      <td>1.0</td>\n",
       "      <td>1.0</td>\n",
       "      <td>1.0</td>\n",
       "      <td>0.0</td>\n",
       "      <td>0.0</td>\n",
       "      <td>40000.0</td>\n",
       "      <td>14.0</td>\n",
       "      <td>91756eb4dc280062a541c25a3d44cfb0</td>\n",
       "      <td>3be37b558f02daae93a6da10f83f0c77</td>\n",
       "      <td>24000.0</td>\n",
       "      <td>0.0</td>\n",
       "      <td>0.0</td>\n",
       "      <td>0.0</td>\n",
       "      <td>1.0</td>\n",
       "      <td>Within the next 6 months</td>\n",
       "      <td>1.0</td>\n",
       "      <td>NaN</td>\n",
       "      <td>NaN</td>\n",
       "      <td>NaN</td>\n",
       "      <td>1.0</td>\n",
       "      <td>1.0</td>\n",
       "      <td>NaN</td>\n",
       "      <td>NaN</td>\n",
       "      <td>NaN</td>\n",
       "      <td>NaN</td>\n",
       "      <td>NaN</td>\n",
       "      <td>NaN</td>\n",
       "      <td>NaN</td>\n",
       "      <td>work for a medium-sized company</td>\n",
       "      <td>NaN</td>\n",
       "      <td>Front-End Web Developer, Full-Stack Web Deve...</td>\n",
       "      <td>from home</td>\n",
       "      <td>Portuguese</td>\n",
       "      <td>married or domestic partnership</td>\n",
       "      <td>0.0</td>\n",
       "      <td>5.0</td>\n",
       "      <td>dbdc0664d1</td>\n",
       "      <td>2017-03-09 00:40:13</td>\n",
       "      <td>2017-03-09 00:37:45</td>\n",
       "      <td>2017-03-09 00:42:26</td>\n",
       "      <td>2017-03-09 00:40:18</td>\n",
       "      <td>NaN</td>\n",
       "      <td>NaN</td>\n",
       "      <td>NaN</td>\n",
       "      <td>NaN</td>\n",
       "      <td>NaN</td>\n",
       "      <td>NaN</td>\n",
       "      <td>NaN</td>\n",
       "      <td>NaN</td>\n",
       "      <td>NaN</td>\n",
       "      <td>NaN</td>\n",
       "      <td>NaN</td>\n",
       "      <td>NaN</td>\n",
       "      <td>NaN</td>\n",
       "      <td>NaN</td>\n",
       "      <td>NaN</td>\n",
       "      <td>NaN</td>\n",
       "      <td>NaN</td>\n",
       "      <td>NaN</td>\n",
       "      <td>NaN</td>\n",
       "      <td>NaN</td>\n",
       "      <td>NaN</td>\n",
       "      <td>NaN</td>\n",
       "      <td>1.0</td>\n",
       "      <td>1.0</td>\n",
       "      <td>NaN</td>\n",
       "      <td>NaN</td>\n",
       "      <td>NaN</td>\n",
       "      <td>1.0</td>\n",
       "      <td>NaN</td>\n",
       "      <td>NaN</td>\n",
       "      <td>NaN</td>\n",
       "      <td>NaN</td>\n",
       "      <td>1.0</td>\n",
       "      <td>NaN</td>\n",
       "      <td>NaN</td>\n",
       "      <td>NaN</td>\n",
       "      <td>NaN</td>\n",
       "      <td>some college credit, no degree</td>\n",
       "      <td>NaN</td>\n",
       "      <td>NaN</td>\n",
       "      <td>NaN</td>\n",
       "      <td>NaN</td>\n",
       "      <td>NaN</td>\n",
       "      <td>NaN</td>\n",
       "      <td>NaN</td>\n",
       "      <td>1.0</td>\n",
       "      <td>NaN</td>\n",
       "      <td>1.0</td>\n",
       "      <td>1.0</td>\n",
       "      <td>NaN</td>\n",
       "      <td>NaN</td>\n",
       "      <td>1.0</td>\n",
       "      <td>NaN</td>\n",
       "      <td>NaN</td>\n",
       "      <td>NaN</td>\n",
       "      <td>NaN</td>\n",
       "      <td>NaN</td>\n",
       "    </tr>\n",
       "    <tr>\n",
       "      <th>4</th>\n",
       "      <td>20.0</td>\n",
       "      <td>0.0</td>\n",
       "      <td>NaN</td>\n",
       "      <td>NaN</td>\n",
       "      <td>NaN</td>\n",
       "      <td>NaN</td>\n",
       "      <td>NaN</td>\n",
       "      <td>between 100,000 and 1 million</td>\n",
       "      <td>NaN</td>\n",
       "      <td>NaN</td>\n",
       "      <td>NaN</td>\n",
       "      <td>NaN</td>\n",
       "      <td>NaN</td>\n",
       "      <td>NaN</td>\n",
       "      <td>NaN</td>\n",
       "      <td>NaN</td>\n",
       "      <td>NaN</td>\n",
       "      <td>NaN</td>\n",
       "      <td>NaN</td>\n",
       "      <td>NaN</td>\n",
       "      <td>NaN</td>\n",
       "      <td>NaN</td>\n",
       "      <td>NaN</td>\n",
       "      <td>NaN</td>\n",
       "      <td>NaN</td>\n",
       "      <td>Portugal</td>\n",
       "      <td>Portugal</td>\n",
       "      <td>NaN</td>\n",
       "      <td>NaN</td>\n",
       "      <td>Not working but looking for work</td>\n",
       "      <td>NaN</td>\n",
       "      <td>140000.0</td>\n",
       "      <td>NaN</td>\n",
       "      <td>NaN</td>\n",
       "      <td>female</td>\n",
       "      <td>NaN</td>\n",
       "      <td>NaN</td>\n",
       "      <td>0.0</td>\n",
       "      <td>0.0</td>\n",
       "      <td>1.0</td>\n",
       "      <td>NaN</td>\n",
       "      <td>0.0</td>\n",
       "      <td>NaN</td>\n",
       "      <td>NaN</td>\n",
       "      <td>10.0</td>\n",
       "      <td>aa3f061a1949a90b27bef7411ecd193f</td>\n",
       "      <td>d7c56bbf2c7b62096be9db010e86d96d</td>\n",
       "      <td>NaN</td>\n",
       "      <td>0.0</td>\n",
       "      <td>0.0</td>\n",
       "      <td>0.0</td>\n",
       "      <td>NaN</td>\n",
       "      <td>Within 7 to 12 months</td>\n",
       "      <td>1.0</td>\n",
       "      <td>NaN</td>\n",
       "      <td>NaN</td>\n",
       "      <td>NaN</td>\n",
       "      <td>1.0</td>\n",
       "      <td>1.0</td>\n",
       "      <td>NaN</td>\n",
       "      <td>1.0</td>\n",
       "      <td>1.0</td>\n",
       "      <td>NaN</td>\n",
       "      <td>NaN</td>\n",
       "      <td>NaN</td>\n",
       "      <td>NaN</td>\n",
       "      <td>work for a multinational corporation</td>\n",
       "      <td>1.0</td>\n",
       "      <td>Full-Stack Web Developer, Information Security...</td>\n",
       "      <td>in an office with other developers</td>\n",
       "      <td>Portuguese</td>\n",
       "      <td>single, never married</td>\n",
       "      <td>0.0</td>\n",
       "      <td>24.0</td>\n",
       "      <td>11b0f2d8a9</td>\n",
       "      <td>2017-03-09 00:42:45</td>\n",
       "      <td>2017-03-09 00:39:44</td>\n",
       "      <td>2017-03-09 00:45:42</td>\n",
       "      <td>2017-03-09 00:42:50</td>\n",
       "      <td>NaN</td>\n",
       "      <td>NaN</td>\n",
       "      <td>NaN</td>\n",
       "      <td>NaN</td>\n",
       "      <td>NaN</td>\n",
       "      <td>NaN</td>\n",
       "      <td>NaN</td>\n",
       "      <td>NaN</td>\n",
       "      <td>NaN</td>\n",
       "      <td>NaN</td>\n",
       "      <td>NaN</td>\n",
       "      <td>NaN</td>\n",
       "      <td>NaN</td>\n",
       "      <td>NaN</td>\n",
       "      <td>NaN</td>\n",
       "      <td>NaN</td>\n",
       "      <td>NaN</td>\n",
       "      <td>NaN</td>\n",
       "      <td>NaN</td>\n",
       "      <td>NaN</td>\n",
       "      <td>NaN</td>\n",
       "      <td>NaN</td>\n",
       "      <td>NaN</td>\n",
       "      <td>NaN</td>\n",
       "      <td>NaN</td>\n",
       "      <td>NaN</td>\n",
       "      <td>NaN</td>\n",
       "      <td>NaN</td>\n",
       "      <td>NaN</td>\n",
       "      <td>NaN</td>\n",
       "      <td>NaN</td>\n",
       "      <td>NaN</td>\n",
       "      <td>1.0</td>\n",
       "      <td>NaN</td>\n",
       "      <td>NaN</td>\n",
       "      <td>NaN</td>\n",
       "      <td>NaN</td>\n",
       "      <td>bachelor's degree</td>\n",
       "      <td>Information Technology</td>\n",
       "      <td>NaN</td>\n",
       "      <td>NaN</td>\n",
       "      <td>NaN</td>\n",
       "      <td>NaN</td>\n",
       "      <td>NaN</td>\n",
       "      <td>NaN</td>\n",
       "      <td>NaN</td>\n",
       "      <td>NaN</td>\n",
       "      <td>NaN</td>\n",
       "      <td>NaN</td>\n",
       "      <td>NaN</td>\n",
       "      <td>NaN</td>\n",
       "      <td>NaN</td>\n",
       "      <td>NaN</td>\n",
       "      <td>NaN</td>\n",
       "      <td>NaN</td>\n",
       "      <td>NaN</td>\n",
       "      <td>NaN</td>\n",
       "    </tr>\n",
       "  </tbody>\n",
       "</table>\n",
       "</div>"
      ],
      "text/plain": [
       "    Age  AttendedBootcamp  BootcampFinish  BootcampLoanYesNo BootcampName  \\\n",
       "0  27.0               0.0             NaN                NaN          NaN   \n",
       "1  34.0               0.0             NaN                NaN          NaN   \n",
       "2  21.0               0.0             NaN                NaN          NaN   \n",
       "3  26.0               0.0             NaN                NaN          NaN   \n",
       "4  20.0               0.0             NaN                NaN          NaN   \n",
       "\n",
       "   BootcampRecommend  ChildrenNumber                 CityPopulation  \\\n",
       "0                NaN             NaN            more than 1 million   \n",
       "1                NaN             NaN              less than 100,000   \n",
       "2                NaN             NaN            more than 1 million   \n",
       "3                NaN             NaN  between 100,000 and 1 million   \n",
       "4                NaN             NaN  between 100,000 and 1 million   \n",
       "\n",
       "   CodeEventConferences  CodeEventDjangoGirls  CodeEventFCC  CodeEventGameJam  \\\n",
       "0                   NaN                   NaN           NaN               NaN   \n",
       "1                   NaN                   NaN           NaN               NaN   \n",
       "2                   NaN                   NaN           NaN               NaN   \n",
       "3                   NaN                   NaN           NaN               NaN   \n",
       "4                   NaN                   NaN           NaN               NaN   \n",
       "\n",
       "   CodeEventGirlDev  CodeEventHackathons  CodeEventMeetup  \\\n",
       "0               NaN                  NaN              NaN   \n",
       "1               NaN                  NaN              NaN   \n",
       "2               NaN                  1.0              NaN   \n",
       "3               NaN                  NaN              NaN   \n",
       "4               NaN                  NaN              NaN   \n",
       "\n",
       "   CodeEventNodeSchool  CodeEventNone CodeEventOther  CodeEventRailsBridge  \\\n",
       "0                  NaN            NaN            NaN                   NaN   \n",
       "1                  NaN            NaN            NaN                   NaN   \n",
       "2                  1.0            NaN            NaN                   NaN   \n",
       "3                  NaN            NaN            NaN                   NaN   \n",
       "4                  NaN            NaN            NaN                   NaN   \n",
       "\n",
       "   CodeEventRailsGirls  CodeEventStartUpWknd  CodeEventWkdBootcamps  \\\n",
       "0                  NaN                   NaN                    NaN   \n",
       "1                  NaN                   NaN                    NaN   \n",
       "2                  NaN                   NaN                    NaN   \n",
       "3                  NaN                   NaN                    NaN   \n",
       "4                  NaN                   NaN                    NaN   \n",
       "\n",
       "   CodeEventWomenCode  CodeEventWorkshops       CommuteTime  \\\n",
       "0                 NaN                 NaN  15 to 29 minutes   \n",
       "1                 NaN                 NaN               NaN   \n",
       "2                 NaN                 NaN  15 to 29 minutes   \n",
       "3                 NaN                 NaN  I work from home   \n",
       "4                 NaN                 NaN               NaN   \n",
       "\n",
       "             CountryCitizen               CountryLive  \\\n",
       "0                    Canada                    Canada   \n",
       "1  United States of America  United States of America   \n",
       "2  United States of America  United States of America   \n",
       "3                    Brazil                    Brazil   \n",
       "4                  Portugal                  Portugal   \n",
       "\n",
       "               EmploymentField EmploymentFieldOther  \\\n",
       "0  software development and IT                  NaN   \n",
       "1                          NaN                  NaN   \n",
       "2  software development and IT                  NaN   \n",
       "3  software development and IT                  NaN   \n",
       "4                          NaN                  NaN   \n",
       "\n",
       "                   EmploymentStatus EmploymentStatusOther  ExpectedEarning  \\\n",
       "0                Employed for wages                   NaN              NaN   \n",
       "1  Not working but looking for work                   NaN          35000.0   \n",
       "2                Employed for wages                   NaN          70000.0   \n",
       "3                Employed for wages                   NaN          40000.0   \n",
       "4  Not working but looking for work                   NaN         140000.0   \n",
       "\n",
       "   FinanciallySupporting  FirstDevJob  Gender GenderOther  HasChildren  \\\n",
       "0                    NaN          NaN  female         NaN          NaN   \n",
       "1                    NaN          NaN    male         NaN          NaN   \n",
       "2                    NaN          NaN    male         NaN          NaN   \n",
       "3                    0.0          NaN    male         NaN          0.0   \n",
       "4                    NaN          NaN  female         NaN          NaN   \n",
       "\n",
       "   HasDebt  HasFinancialDependents  HasHighSpdInternet  HasHomeMortgage  \\\n",
       "0      1.0                     0.0                 1.0              0.0   \n",
       "1      1.0                     0.0                 1.0              0.0   \n",
       "2      0.0                     0.0                 1.0              NaN   \n",
       "3      1.0                     1.0                 1.0              1.0   \n",
       "4      0.0                     0.0                 1.0              NaN   \n",
       "\n",
       "   HasServedInMilitary  HasStudentDebt  HomeMortgageOwe  HoursLearning  \\\n",
       "0                  0.0             0.0              NaN           15.0   \n",
       "1                  0.0             1.0              NaN           10.0   \n",
       "2                  0.0             NaN              NaN           25.0   \n",
       "3                  0.0             0.0          40000.0           14.0   \n",
       "4                  0.0             NaN              NaN           10.0   \n",
       "\n",
       "                               ID.x                              ID.y  \\\n",
       "0  02d9465b21e8bd09374b0066fb2d5614  eb78c1c3ac6cd9052aec557065070fbf   \n",
       "1  5bfef9ecb211ec4f518cfc1d2a6f3e0c  21db37adb60cdcafadfa7dca1b13b6b1   \n",
       "2  14f1863afa9c7de488050b82eb3edd96  21ba173828fbe9e27ccebaf4d5166a55   \n",
       "3  91756eb4dc280062a541c25a3d44cfb0  3be37b558f02daae93a6da10f83f0c77   \n",
       "4  aa3f061a1949a90b27bef7411ecd193f  d7c56bbf2c7b62096be9db010e86d96d   \n",
       "\n",
       "    Income  IsEthnicMinority  IsReceiveDisabilitiesBenefits  IsSoftwareDev  \\\n",
       "0      NaN               NaN                            0.0            0.0   \n",
       "1      NaN               0.0                            0.0            0.0   \n",
       "2  13000.0               1.0                            0.0            0.0   \n",
       "3  24000.0               0.0                            0.0            0.0   \n",
       "4      NaN               0.0                            0.0            0.0   \n",
       "\n",
       "   IsUnderEmployed              JobApplyWhen  JobInterestBackEnd  \\\n",
       "0              0.0                       NaN                 NaN   \n",
       "1              NaN     Within 7 to 12 months                 NaN   \n",
       "2              0.0     Within 7 to 12 months                 1.0   \n",
       "3              1.0  Within the next 6 months                 1.0   \n",
       "4              NaN     Within 7 to 12 months                 1.0   \n",
       "\n",
       "   JobInterestDataEngr  JobInterestDataSci  JobInterestDevOps  \\\n",
       "0                  NaN                 NaN                NaN   \n",
       "1                  NaN                 NaN                NaN   \n",
       "2                  NaN                 NaN                1.0   \n",
       "3                  NaN                 NaN                NaN   \n",
       "4                  NaN                 NaN                NaN   \n",
       "\n",
       "   JobInterestFrontEnd  JobInterestFullStack  JobInterestGameDev  \\\n",
       "0                  NaN                   NaN                 NaN   \n",
       "1                  NaN                   1.0                 NaN   \n",
       "2                  1.0                   1.0                 NaN   \n",
       "3                  1.0                   1.0                 NaN   \n",
       "4                  1.0                   1.0                 NaN   \n",
       "\n",
       "   JobInterestInfoSec  JobInterestMobile JobInterestOther  \\\n",
       "0                 NaN                NaN              NaN   \n",
       "1                 NaN                NaN              NaN   \n",
       "2                 NaN                1.0              NaN   \n",
       "3                 NaN                NaN              NaN   \n",
       "4                 1.0                1.0              NaN   \n",
       "\n",
       "   JobInterestProjMngr  JobInterestQAEngr  JobInterestUX  \\\n",
       "0                  NaN                NaN            NaN   \n",
       "1                  NaN                NaN            NaN   \n",
       "2                  NaN                NaN            NaN   \n",
       "3                  NaN                NaN            NaN   \n",
       "4                  NaN                NaN            NaN   \n",
       "\n",
       "                                JobPref  JobRelocateYesNo  \\\n",
       "0               start your own business               NaN   \n",
       "1                  work for a nonprofit               1.0   \n",
       "2       work for a medium-sized company               1.0   \n",
       "3       work for a medium-sized company               NaN   \n",
       "4  work for a multinational corporation               1.0   \n",
       "\n",
       "                                     JobRoleInterest  \\\n",
       "0                                                NaN   \n",
       "1                           Full-Stack Web Developer   \n",
       "2    Front-End Web Developer, Back-End Web Develo...   \n",
       "3    Front-End Web Developer, Full-Stack Web Deve...   \n",
       "4  Full-Stack Web Developer, Information Security...   \n",
       "\n",
       "                         JobWherePref LanguageAtHome  \\\n",
       "0                                 NaN        English   \n",
       "1  in an office with other developers        English   \n",
       "2                       no preference        Spanish   \n",
       "3                           from home     Portuguese   \n",
       "4  in an office with other developers     Portuguese   \n",
       "\n",
       "                     MaritalStatus  MoneyForLearning  MonthsProgramming  \\\n",
       "0  married or domestic partnership             150.0                6.0   \n",
       "1            single, never married              80.0                6.0   \n",
       "2            single, never married            1000.0                5.0   \n",
       "3  married or domestic partnership               0.0                5.0   \n",
       "4            single, never married               0.0               24.0   \n",
       "\n",
       "    NetworkID         Part1EndTime       Part1StartTime         Part2EndTime  \\\n",
       "0  6f1fbc6b2b  2017-03-09 00:36:22  2017-03-09 00:32:59  2017-03-09 00:59:46   \n",
       "1  f8f8be6910  2017-03-09 00:37:07  2017-03-09 00:33:26  2017-03-09 00:38:59   \n",
       "2  2ed189768e  2017-03-09 00:37:58  2017-03-09 00:33:53  2017-03-09 00:40:14   \n",
       "3  dbdc0664d1  2017-03-09 00:40:13  2017-03-09 00:37:45  2017-03-09 00:42:26   \n",
       "4  11b0f2d8a9  2017-03-09 00:42:45  2017-03-09 00:39:44  2017-03-09 00:45:42   \n",
       "\n",
       "        Part2StartTime  PodcastChangeLog  PodcastCodeNewbie  PodcastCodePen  \\\n",
       "0  2017-03-09 00:36:26               NaN                NaN             NaN   \n",
       "1  2017-03-09 00:37:10               NaN                1.0             NaN   \n",
       "2  2017-03-09 00:38:02               1.0                NaN             1.0   \n",
       "3  2017-03-09 00:40:18               NaN                NaN             NaN   \n",
       "4  2017-03-09 00:42:50               NaN                NaN             NaN   \n",
       "\n",
       "   PodcastDevTea  PodcastDotNET  PodcastGiantRobots  PodcastJSAir  \\\n",
       "0            1.0            NaN                 NaN           NaN   \n",
       "1            NaN            NaN                 NaN           NaN   \n",
       "2            NaN            NaN                 NaN           NaN   \n",
       "3            NaN            NaN                 NaN           NaN   \n",
       "4            NaN            NaN                 NaN           NaN   \n",
       "\n",
       "   PodcastJSJabber  PodcastNone PodcastOther  PodcastProgThrowdown  \\\n",
       "0              NaN          NaN          NaN                   NaN   \n",
       "1              NaN          NaN          NaN                   NaN   \n",
       "2              NaN          NaN   Codenewbie                   NaN   \n",
       "3              NaN          NaN          NaN                   NaN   \n",
       "4              NaN          NaN          NaN                   NaN   \n",
       "\n",
       "   PodcastRubyRogues  PodcastSEDaily  PodcastSERadio  PodcastShopTalk  \\\n",
       "0                NaN             NaN             NaN              NaN   \n",
       "1                NaN             NaN             NaN              NaN   \n",
       "2                NaN             NaN             NaN              1.0   \n",
       "3                NaN             NaN             NaN              NaN   \n",
       "4                NaN             NaN             NaN              NaN   \n",
       "\n",
       "   PodcastTalkPython  PodcastTheWebAhead  ResourceCodecademy  \\\n",
       "0                NaN                 NaN                 1.0   \n",
       "1                NaN                 NaN                 1.0   \n",
       "2                NaN                 NaN                 1.0   \n",
       "3                NaN                 NaN                 NaN   \n",
       "4                NaN                 NaN                 NaN   \n",
       "\n",
       "   ResourceCodeWars  ResourceCoursera  ResourceCSS  ResourceEdX  \\\n",
       "0               NaN               NaN          NaN          NaN   \n",
       "1               NaN               NaN          1.0          NaN   \n",
       "2               NaN               NaN          1.0          NaN   \n",
       "3               NaN               NaN          NaN          NaN   \n",
       "4               NaN               NaN          NaN          NaN   \n",
       "\n",
       "   ResourceEgghead  ResourceFCC  ResourceHackerRank  ResourceKA  \\\n",
       "0              NaN          1.0                 NaN         NaN   \n",
       "1              NaN          1.0                 NaN         NaN   \n",
       "2              NaN          1.0                 NaN         NaN   \n",
       "3              1.0          1.0                 NaN         NaN   \n",
       "4              NaN          NaN                 NaN         NaN   \n",
       "\n",
       "   ResourceLynda  ResourceMDN  ResourceOdinProj ResourceOther  \\\n",
       "0            NaN          1.0               NaN           NaN   \n",
       "1            NaN          NaN               NaN           NaN   \n",
       "2            NaN          1.0               NaN           NaN   \n",
       "3            NaN          1.0               NaN           NaN   \n",
       "4            NaN          NaN               NaN           NaN   \n",
       "\n",
       "   ResourcePluralSight  ResourceSkillcrush  ResourceSO  ResourceTreehouse  \\\n",
       "0                  NaN                 NaN         NaN                NaN   \n",
       "1                  NaN                 NaN         1.0                NaN   \n",
       "2                  NaN                 NaN         NaN                NaN   \n",
       "3                  NaN                 NaN         1.0                NaN   \n",
       "4                  NaN                 NaN         1.0                NaN   \n",
       "\n",
       "   ResourceUdacity  ResourceUdemy  ResourceW3S  \\\n",
       "0              NaN            1.0          1.0   \n",
       "1              NaN            1.0          1.0   \n",
       "2              1.0            1.0          NaN   \n",
       "3              NaN            NaN          NaN   \n",
       "4              NaN            NaN          NaN   \n",
       "\n",
       "                              SchoolDegree             SchoolMajor  \\\n",
       "0           some college credit, no degree                     NaN   \n",
       "1           some college credit, no degree                     NaN   \n",
       "2  high school diploma or equivalent (GED)                     NaN   \n",
       "3           some college credit, no degree                     NaN   \n",
       "4                        bachelor's degree  Information Technology   \n",
       "\n",
       "   StudentDebtOwe  YouTubeCodeCourse  YouTubeCodingTrain  YouTubeCodingTut360  \\\n",
       "0             NaN                NaN                 NaN                  NaN   \n",
       "1             NaN                NaN                 NaN                  NaN   \n",
       "2             NaN                NaN                 NaN                  1.0   \n",
       "3             NaN                NaN                 NaN                  NaN   \n",
       "4             NaN                NaN                 NaN                  NaN   \n",
       "\n",
       "   YouTubeComputerphile  YouTubeDerekBanas  YouTubeDevTips  \\\n",
       "0                   NaN                NaN             NaN   \n",
       "1                   NaN                NaN             NaN   \n",
       "2                   NaN                1.0             1.0   \n",
       "3                   NaN                NaN             1.0   \n",
       "4                   NaN                NaN             NaN   \n",
       "\n",
       "   YouTubeEngineeredTruth  YouTubeFCC  YouTubeFunFunFunction  \\\n",
       "0                     NaN         NaN                    NaN   \n",
       "1                     NaN         1.0                    NaN   \n",
       "2                     NaN         NaN                    NaN   \n",
       "3                     NaN         1.0                    1.0   \n",
       "4                     NaN         NaN                    NaN   \n",
       "\n",
       "   YouTubeGoogleDev  YouTubeLearnCode  YouTubeLevelUpTuts  YouTubeMIT  \\\n",
       "0               NaN               NaN                 NaN         NaN   \n",
       "1               NaN               NaN                 NaN         NaN   \n",
       "2               NaN               1.0                 1.0         NaN   \n",
       "3               NaN               NaN                 1.0         NaN   \n",
       "4               NaN               NaN                 NaN         NaN   \n",
       "\n",
       "   YouTubeMozillaHacks YouTubeOther  YouTubeSimplilearn  YouTubeTheNewBoston  \n",
       "0                  NaN          NaN                 NaN                  NaN  \n",
       "1                  NaN          NaN                 NaN                  NaN  \n",
       "2                  NaN          NaN                 NaN                  NaN  \n",
       "3                  NaN          NaN                 NaN                  NaN  \n",
       "4                  NaN          NaN                 NaN                  NaN  "
      ]
     },
     "execution_count": 2,
     "metadata": {},
     "output_type": "execute_result"
    }
   ],
   "source": [
    "pd.options.display.max_columns = 136\n",
    "survey.head()"
   ]
  },
  {
   "cell_type": "markdown",
   "metadata": {},
   "source": [
    "## What Types of Courses Should We Offer?\n",
    "\n",
    "The first question we need to answer is: \"What types of courses would interest potential students?\" The `JobRoleInterest` column describes the job role or roles that the respondent is interested in pursuing. Let's examine this column to see what types of courses we should offer."
   ]
  },
  {
   "cell_type": "code",
   "execution_count": 3,
   "metadata": {
    "collapsed": false,
    "scrolled": false
   },
   "outputs": [
    {
     "data": {
      "text/plain": [
       "Full-Stack Web Developer                                                                                                                                             11.770595\n",
       "  Front-End Web Developer                                                                                                                                             6.435927\n",
       "  Data Scientist                                                                                                                                                      2.173913\n",
       "Back-End Web Developer                                                                                                                                                2.030892\n",
       "  Mobile Developer                                                                                                                                                    1.673341\n",
       "Game Developer                                                                                                                                                        1.630435\n",
       "Information Security                                                                                                                                                  1.315789\n",
       "Full-Stack Web Developer,   Front-End Web Developer                                                                                                                   0.915332\n",
       "  Front-End Web Developer, Full-Stack Web Developer                                                                                                                   0.800915\n",
       "  Product Manager                                                                                                                                                     0.786613\n",
       "Data Engineer                                                                                                                                                         0.758009\n",
       "  User Experience Designer                                                                                                                                            0.743707\n",
       "  User Experience Designer,   Front-End Web Developer                                                                                                                 0.614989\n",
       "  Front-End Web Developer, Back-End Web Developer, Full-Stack Web Developer                                                                                           0.557780\n",
       "Back-End Web Developer,   Front-End Web Developer, Full-Stack Web Developer                                                                                           0.514874\n",
       "Back-End Web Developer, Full-Stack Web Developer,   Front-End Web Developer                                                                                           0.514874\n",
       "  DevOps / SysAdmin                                                                                                                                                   0.514874\n",
       "Full-Stack Web Developer,   Front-End Web Developer, Back-End Web Developer                                                                                           0.443364\n",
       "  Front-End Web Developer, Full-Stack Web Developer, Back-End Web Developer                                                                                           0.429062\n",
       "  Front-End Web Developer,   User Experience Designer                                                                                                                 0.414760\n",
       "Full-Stack Web Developer,   Mobile Developer                                                                                                                          0.414760\n",
       "Back-End Web Developer, Full-Stack Web Developer                                                                                                                      0.386156\n",
       "Full-Stack Web Developer, Back-End Web Developer                                                                                                                      0.371854\n",
       "Back-End Web Developer,   Front-End Web Developer                                                                                                                     0.286041\n",
       "Full-Stack Web Developer, Back-End Web Developer,   Front-End Web Developer                                                                                           0.271739\n",
       "Data Engineer,   Data Scientist                                                                                                                                       0.271739\n",
       "  Front-End Web Developer,   Mobile Developer                                                                                                                         0.257437\n",
       "Full-Stack Web Developer,   Data Scientist                                                                                                                            0.243135\n",
       "  Mobile Developer, Game Developer                                                                                                                                    0.228833\n",
       "  Data Scientist, Data Engineer                                                                                                                                       0.228833\n",
       "                                                                                                                                                                       ...    \n",
       "  Front-End Web Developer,   Mobile Developer, Game Developer,   User Experience Designer, Back-End Web Developer, Full-Stack Web Developer                           0.014302\n",
       "  Mobile Developer,   Front-End Web Developer, Back-End Web Developer, Game Developer, Full-Stack Web Developer                                                       0.014302\n",
       "  Front-End Web Developer, Back-End Web Developer, Game Developer, Full-Stack Web Developer,   Mobile Developer                                                       0.014302\n",
       "  Mobile Developer,   Data Scientist, Data Engineer, Back-End Web Developer, Full-Stack Web Developer,   User Experience Designer                                     0.014302\n",
       "Full-Stack Web Developer,   Front-End Web Developer,   Data Scientist,   User Experience Designer, Back-End Web Developer                                             0.014302\n",
       "Full-Stack Web Developer, Back-End Web Developer,   Front-End Web Developer,   User Experience Designer, Game Developer                                               0.014302\n",
       "Security Business Analyst                                                                                                                                             0.014302\n",
       "  Data Scientist, Data Engineer,   Product Manager                                                                                                                    0.014302\n",
       "Game Developer,   Front-End Web Developer, Full-Stack Web Developer, Back-End Web Developer,   DevOps / SysAdmin                                                      0.014302\n",
       "  DevOps / SysAdmin, Back-End Web Developer, Data Engineer,   Product Manager,   Data Scientist                                                                       0.014302\n",
       "Game Developer, Information Security, Full-Stack Web Developer,   DevOps / SysAdmin, Back-End Web Developer,   Front-End Web Developer,   Mobile Developer            0.014302\n",
       "  Product Manager,   Front-End Web Developer,   User Experience Designer,   Data Scientist, Full-Stack Web Developer, Data Engineer,   Quality Assurance Engineer     0.014302\n",
       "Game Developer, Data Engineer,   Data Scientist,   Mobile Developer,   Front-End Web Developer,   DevOps / SysAdmin,   Product Manager                                0.014302\n",
       "  User Experience Designer, Full-Stack Web Developer,   DevOps / SysAdmin, Information Security,   Quality Assurance Engineer                                         0.014302\n",
       "  DevOps / SysAdmin,   User Experience Designer, Game Developer, Information Security, Information Technology                                                         0.014302\n",
       "  User Experience Designer, Data Engineer,   Front-End Web Developer,   Data Scientist,   Product Manager, Full-Stack Web Developer, Information Security             0.014302\n",
       "Full-Stack Web Developer, Back-End Web Developer,   Front-End Web Developer, Data Engineer,   Mobile Developer                                                        0.014302\n",
       "Back-End Web Developer,   Mobile Developer, Information Security,   DevOps / SysAdmin, Game Developer, Data Engineer                                                  0.014302\n",
       "  Front-End Web Developer, Back-End Web Developer, Full-Stack Web Developer,   User Experience Designer,   DevOps / SysAdmin                                          0.014302\n",
       "Data Engineer, Back-End Web Developer, Information Security,   Mobile Developer, Full-Stack Web Developer                                                             0.014302\n",
       "  Mobile Developer,   Front-End Web Developer, Back-End Web Developer,   User Experience Designer, Full-Stack Web Developer                                           0.014302\n",
       "  DevOps / SysAdmin, Game Developer,   Mobile Developer,   Front-End Web Developer                                                                                    0.014302\n",
       "Information Security, Data Engineer                                                                                                                                   0.014302\n",
       "  Front-End Web Developer, Game Developer,   Mobile Developer, Full-Stack Web Developer, Back-End Web Developer, Data Engineer,   Data Scientist                      0.014302\n",
       "Full-Stack Web Developer, Game Developer,   Mobile Developer,   DevOps / SysAdmin,   Front-End Web Developer, Back-End Web Developer                                  0.014302\n",
       "  Mobile Developer,   Data Scientist,   User Experience Designer, Data Engineer, Full-Stack Web Developer                                                             0.014302\n",
       "  Front-End Web Developer, Game Developer, Full-Stack Web Developer,   Mobile Developer, Back-End Web Developer,   User Experience Designer                           0.014302\n",
       "Full-Stack Web Developer, Back-End Web Developer, Information Security,   User Experience Designer,   Front-End Web Developer                                         0.014302\n",
       "  Mobile Developer, Data Engineer,   Data Scientist                                                                                                                   0.014302\n",
       "Full-Stack Web Developer, Information Security,   Mobile Developer                                                                                                    0.014302\n",
       "Name: JobRoleInterest, Length: 3213, dtype: float64"
      ]
     },
     "execution_count": 3,
     "metadata": {},
     "output_type": "execute_result"
    }
   ],
   "source": [
    "(survey['JobRoleInterest'].value_counts(normalize=True) * 100)"
   ]
  },
  {
   "cell_type": "markdown",
   "metadata": {},
   "source": [
    "We can see that most people are interested in more than one job role. However, we can see that the most popular job roles appear to be in web development with the top two jobs, full-stack development and front-end development, far more popular than any other job roles. The focus of our courses is on web and mobile development, and it looks at first glance that these topics will interest potential students. Let's look at how many people are interested in at least one of those two subjects.\n",
    "\n",
    "The `JobRoleInterest` column appears to simply be an aggregate of the `JobInterest` columns. We could split the column into a list or look at all of the other columns, but the simplest and fastest method looks to be simply looking for either `Web` or `Mobile` in the `JobRoleInterest` column as any job role in either web or mobile development will contain one of those two keywords."
   ]
  },
  {
   "cell_type": "code",
   "execution_count": 4,
   "metadata": {
    "collapsed": false
   },
   "outputs": [],
   "source": [
    "def web_or_mobile(s):\n",
    "    if type(s) == str:\n",
    "        if ('Web' in s) | ('Mobile' in s):\n",
    "            return 'Yes'\n",
    "        else:\n",
    "            return 'No'\n",
    "    else:\n",
    "        return 'None'\n",
    "\n",
    "survey['WebOrMobile'] = survey['JobRoleInterest'].apply(web_or_mobile)"
   ]
  },
  {
   "cell_type": "code",
   "execution_count": 5,
   "metadata": {
    "collapsed": false,
    "scrolled": false
   },
   "outputs": [
    {
     "data": {
      "text/plain": [
       "0     None\n",
       "1      Yes\n",
       "2      Yes\n",
       "3      Yes\n",
       "4      Yes\n",
       "5     None\n",
       "6      Yes\n",
       "7     None\n",
       "8     None\n",
       "9      Yes\n",
       "10    None\n",
       "11      No\n",
       "12    None\n",
       "13     Yes\n",
       "14     Yes\n",
       "15     Yes\n",
       "16     Yes\n",
       "17    None\n",
       "18     Yes\n",
       "19     Yes\n",
       "Name: WebOrMobile, dtype: object"
      ]
     },
     "execution_count": 5,
     "metadata": {},
     "output_type": "execute_result"
    }
   ],
   "source": [
    "survey['WebOrMobile'].head(20)"
   ]
  },
  {
   "cell_type": "code",
   "execution_count": 6,
   "metadata": {
    "collapsed": false,
    "scrolled": false
   },
   "outputs": [
    {
     "data": {
      "image/png": "[encoded data removed]",
      "text/plain": [
       "<matplotlib.figure.Figure at 0x7f07a58c2160>"
      ]
     },
     "metadata": {},
     "output_type": "display_data"
    }
   ],
   "source": [
    "survey['WebOrMobile'].value_counts().iloc[1:].plot.pie(figsize=(6,6), autopct='%.1f%%', textprops={'fontsize': 16}, labels=None)\n",
    "plt.ylabel('')\n",
    "plt.title('Percent of Respondents Interested\\nin Web or Mobile Development', fontsize=20)\n",
    "plt.legend(['Yes', 'No'])\n",
    "plt.show()"
   ]
  },
  {
   "cell_type": "markdown",
   "metadata": {},
   "source": [
    "As we hypothesized, the overwhelming majority of respondents are interested in either web or mobile development."
   ]
  },
  {
   "cell_type": "code",
   "execution_count": 7,
   "metadata": {
    "collapsed": false
   },
   "outputs": [
    {
     "data": {
      "image/png": "[encoded data removed]",
      "text/plain": [
       "<matplotlib.figure.Figure at 0x7f07a61ca780>"
      ]
     },
     "metadata": {},
     "output_type": "display_data"
    }
   ],
   "source": [
    "survey['JobResponse'] = survey['WebOrMobile'].apply(\n",
    "    lambda x: True if (x == 'Yes' or x =='No') else False)\n",
    "\n",
    "survey['JobResponse'].value_counts().plot.pie(figsize=(6,6), autopct='%.1f%%', textprops={'fontsize': 16}, labels=None)\n",
    "plt.ylabel('')\n",
    "plt.title('Percent of Respondents with\\nJob Interests Listed', fontsize=20)\n",
    "plt.legend(['0', '1 or More'])\n",
    "plt.show()"
   ]
  },
  {
   "cell_type": "markdown",
   "metadata": {},
   "source": [
    "A large number of respondents didn't list any job interest. This could be because they didn't want to respond to the question or because they aren't interested in coding as a job. However, it could be because they are not yet sure what area interests them the most. If we assume that a large portion of those interested in coding are uncertain about how to pursue a career in coding, we may be able to generate more customers by helping these people either find what interests them the most or by helping them see the benefits of web and mobile development. While this is not relevant to our current analysis, it is possible that we can improve our potential customer base if we can demonstrate the practicality of coding as a career."
   ]
  },
  {
   "cell_type": "markdown",
   "metadata": {},
   "source": [
    "## New Coders - Locations and Densities\n",
    "\n",
    "Now that we know that our current focus on web and mobile development should be effective for our marketing campaign, let's look at the best markets in which to advertise. This dataset provides information at a country level, so we will consider each country a potential market. Let's look at the number of respondents by country to see what the best markets may be."
   ]
  },
  {
   "cell_type": "code",
   "execution_count": 8,
   "metadata": {
    "collapsed": false
   },
   "outputs": [
    {
     "data": {
      "text/plain": [
       "United States of America         3125\n",
       "India                             528\n",
       "United Kingdom                    315\n",
       "Canada                            260\n",
       "Poland                            131\n",
       "Brazil                            129\n",
       "Germany                           125\n",
       "Australia                         112\n",
       "Russia                            102\n",
       "Ukraine                            89\n",
       "Nigeria                            84\n",
       "Spain                              77\n",
       "France                             75\n",
       "Romania                            71\n",
       "Netherlands (Holland, Europe)      65\n",
       "Italy                              62\n",
       "Serbia                             52\n",
       "Philippines                        52\n",
       "Greece                             46\n",
       "Ireland                            43\n",
       "Name: CountryLive, dtype: int64"
      ]
     },
     "execution_count": 8,
     "metadata": {},
     "output_type": "execute_result"
    }
   ],
   "source": [
    "survey2 = survey[survey['JobResponse']].copy()\n",
    "survey2['CountryLive'].value_counts().head(20)"
   ]
  },
  {
   "cell_type": "code",
   "execution_count": 9,
   "metadata": {
    "collapsed": false
   },
   "outputs": [
    {
     "data": {
      "text/plain": [
       "United States of America         45.70\n",
       "India                             7.72\n",
       "United Kingdom                    4.61\n",
       "Canada                            3.80\n",
       "Poland                            1.92\n",
       "Brazil                            1.89\n",
       "Germany                           1.83\n",
       "Australia                         1.64\n",
       "Russia                            1.49\n",
       "Ukraine                           1.30\n",
       "Nigeria                           1.23\n",
       "Spain                             1.13\n",
       "France                            1.10\n",
       "Romania                           1.04\n",
       "Netherlands (Holland, Europe)     0.95\n",
       "Italy                             0.91\n",
       "Serbia                            0.76\n",
       "Philippines                       0.76\n",
       "Greece                            0.67\n",
       "Ireland                           0.63\n",
       "Name: CountryLive, dtype: float64"
      ]
     },
     "execution_count": 9,
     "metadata": {},
     "output_type": "execute_result"
    }
   ],
   "source": [
    "round(survey2['CountryLive'].value_counts(normalize=True).head(20) * 100, 2)"
   ]
  },
  {
   "cell_type": "markdown",
   "metadata": {
    "collapsed": true
   },
   "source": [
    "The top four countries with the most potential all have English as an official language. This makes sense as freeCodeCamp is an English-language site. Since we also provide English-language content, let's narrow our search to English-speaking countries."
   ]
  },
  {
   "cell_type": "code",
   "execution_count": 10,
   "metadata": {
    "collapsed": false
   },
   "outputs": [
    {
     "data": {
      "text/plain": [
       "United States of America    3125\n",
       "India                        528\n",
       "United Kingdom               315\n",
       "Canada                       260\n",
       "Australia                    112\n",
       "Ireland                       43\n",
       "Name: CountryLive, dtype: int64"
      ]
     },
     "execution_count": 10,
     "metadata": {},
     "output_type": "execute_result"
    }
   ],
   "source": [
    "english_list = ['United States of America', 'India', 'United Kingdom', 'Canada', 'Australia', 'Ireland']\n",
    "\n",
    "survey_english = survey2[survey2['CountryLive'].isin(english_list)].copy()\n",
    "survey_english['CountryLive'].value_counts()"
   ]
  },
  {
   "cell_type": "markdown",
   "metadata": {},
   "source": [
    "## Spending Money for Learning\n",
    "\n",
    "We now know what to advertise, and we have an idea of where to advertise. Before making a final decision, however, we should look at what type of budget students may have in different English-speaking countries. As our service is subscription-based, we should advertise in countries with the largest number of potential students able and willing to spend our subscription cost. We'll start by removing any rows with `NaN` values in `MoneyForLearning`. "
   ]
  },
  {
   "cell_type": "code",
   "execution_count": 11,
   "metadata": {
    "collapsed": false
   },
   "outputs": [
    {
     "data": {
      "text/plain": [
       "United States of America    3008\n",
       "India                        469\n",
       "United Kingdom               286\n",
       "Canada                       244\n",
       "Australia                    104\n",
       "Ireland                       41\n",
       "Name: CountryLive, dtype: int64"
      ]
     },
     "execution_count": 11,
     "metadata": {},
     "output_type": "execute_result"
    }
   ],
   "source": [
    "survey_english.dropna(subset=['MoneyForLearning'], inplace=True)\n",
    "survey_english['CountryLive'].value_counts()"
   ]
  },
  {
   "cell_type": "markdown",
   "metadata": {},
   "source": [
    "We want to look at how much students are willing to spend monthly to see if they would consider our service. In order to avoid infinite values when calculating potential monthly spend, we need to deal with any values of `MonthsProgramming` that are zero."
   ]
  },
  {
   "cell_type": "code",
   "execution_count": 12,
   "metadata": {
    "collapsed": false,
    "scrolled": true
   },
   "outputs": [
    {
     "name": "stdout",
     "output_type": "stream",
     "text": [
      "<class 'pandas.core.frame.DataFrame'>\n",
      "Int64Index: 151 entries, 234 to 18044\n",
      "Columns: 138 entries, Age to JobResponse\n",
      "dtypes: bool(1), float64(105), object(32)\n",
      "memory usage: 162.9+ KB\n"
     ]
    }
   ],
   "source": [
    "survey_english[survey_english['MonthsProgramming'] == 0].info()"
   ]
  },
  {
   "cell_type": "code",
   "execution_count": 13,
   "metadata": {
    "collapsed": false,
    "scrolled": false
   },
   "outputs": [
    {
     "data": {
      "text/plain": [
       "0.0       128\n",
       "100.0       4\n",
       "50.0        2\n",
       "200.0       2\n",
       "500.0       2\n",
       "2500.0      1\n",
       "60.0        1\n",
       "20.0        1\n",
       "45.0        1\n",
       "1000.0      1\n",
       "40.0        1\n",
       "9000.0      1\n",
       "400.0       1\n",
       "2000.0      1\n",
       "15.0        1\n",
       "30.0        1\n",
       "110.0       1\n",
       "1200.0      1\n",
       "Name: MoneyForLearning, dtype: int64"
      ]
     },
     "execution_count": 13,
     "metadata": {},
     "output_type": "execute_result"
    }
   ],
   "source": [
    "survey_english[survey_english['MonthsProgramming'] == 0]['MoneyForLearning'].value_counts(dropna=False)"
   ]
  },
  {
   "cell_type": "markdown",
   "metadata": {},
   "source": [
    "There are 151 rows where the respondent lists that they have just started learning to code. There are very few values in `MoneyForLearning` that aren't zero, but there are some large values in this group. These students could be important to include in our analysis, but they could greatly impact our monthly budget calculations if we aren't careful. For every student who hasn't spent money on learning, we'll set their `MonthsProgramming` to 1 (one) if it is currently 0 (zero). This won't change their monthly average, but it will prevent any divide-by-zero errors."
   ]
  },
  {
   "cell_type": "code",
   "execution_count": 14,
   "metadata": {
    "collapsed": false
   },
   "outputs": [
    {
     "name": "stderr",
     "output_type": "stream",
     "text": [
      "/dataquest/system/env/python3/lib/python3.4/site-packages/ipykernel/__main__.py:1: SettingWithCopyWarning:\n",
      "\n",
      "\n",
      "A value is trying to be set on a copy of a slice from a DataFrame\n",
      "\n",
      "See the caveats in the documentation: http://pandas.pydata.org/pandas-docs/stable/indexing.html#indexing-view-versus-copy\n",
      "\n"
     ]
    },
    {
     "data": {
      "text/plain": [
       "100.0     4\n",
       "500.0     2\n",
       "50.0      2\n",
       "200.0     2\n",
       "110.0     1\n",
       "60.0      1\n",
       "20.0      1\n",
       "45.0      1\n",
       "9000.0    1\n",
       "1000.0    1\n",
       "40.0      1\n",
       "30.0      1\n",
       "400.0     1\n",
       "2500.0    1\n",
       "2000.0    1\n",
       "15.0      1\n",
       "1200.0    1\n",
       "Name: MoneyForLearning, dtype: int64"
      ]
     },
     "execution_count": 14,
     "metadata": {},
     "output_type": "execute_result"
    }
   ],
   "source": [
    "survey_english['MonthsProgramming'][(survey_english['MonthsProgramming'] == 0) & (survey_english['MoneyForLearning'] == 0)] = 1\n",
    "\n",
    "#for index, row in survey_english.iterrows():\n",
    "#    if (row['MonthsProgramming'] == 0) & (row['MoneyForLearning'] == 0):\n",
    "#        row['MonthsProgramming'] = 1\n",
    "\n",
    "\n",
    "survey_english[survey_english['MonthsProgramming'] == 0]['MoneyForLearning'].value_counts()"
   ]
  },
  {
   "cell_type": "markdown",
   "metadata": {},
   "source": [
    "We'll set the remaining rows aside for later and continue our calculations."
   ]
  },
  {
   "cell_type": "code",
   "execution_count": 15,
   "metadata": {
    "collapsed": false,
    "scrolled": true
   },
   "outputs": [
    {
     "name": "stdout",
     "output_type": "stream",
     "text": [
      "<class 'pandas.core.frame.DataFrame'>\n",
      "Int64Index: 23 entries, 234 to 17586\n",
      "Columns: 138 entries, Age to JobResponse\n",
      "dtypes: bool(1), float64(105), object(32)\n",
      "memory usage: 24.8+ KB\n"
     ]
    },
    {
     "data": {
      "text/plain": [
       " 0.000000     1903\n",
       "NaN             94\n",
       " 16.666667      85\n",
       " 25.000000      78\n",
       " 50.000000      75\n",
       "Name: MoneyPerMonth, dtype: int64"
      ]
     },
     "execution_count": 15,
     "metadata": {},
     "output_type": "execute_result"
    }
   ],
   "source": [
    "survey_zero_months = survey_english[survey_english['MonthsProgramming'] == 0].copy()\n",
    "survey_zero_months.info()\n",
    "\n",
    "survey_english = survey_english[survey_english['MonthsProgramming'] != 0].copy()\n",
    "\n",
    "survey_english['MoneyPerMonth'] = survey_english['MoneyForLearning'] / survey_english['MonthsProgramming']\n",
    "survey_english['MoneyPerMonth'].value_counts(dropna=False).head()"
   ]
  },
  {
   "cell_type": "code",
   "execution_count": 16,
   "metadata": {
    "collapsed": false
   },
   "outputs": [
    {
     "data": {
      "text/plain": [
       "0.000000     1903\n",
       "16.666667      85\n",
       "25.000000      78\n",
       "50.000000      75\n",
       "8.333333       70\n",
       "Name: MoneyPerMonth, dtype: int64"
      ]
     },
     "execution_count": 16,
     "metadata": {},
     "output_type": "execute_result"
    }
   ],
   "source": [
    "survey_english.dropna(subset=['MoneyPerMonth'], inplace=True)\n",
    "survey_english['MoneyPerMonth'].value_counts(dropna=False).head()"
   ]
  },
  {
   "cell_type": "code",
   "execution_count": 17,
   "metadata": {
    "collapsed": false
   },
   "outputs": [
    {
     "data": {
      "text/plain": [
       "United States of America    2916\n",
       "India                        460\n",
       "United Kingdom               278\n",
       "Canada                       239\n",
       "Australia                    101\n",
       "Ireland                       41\n",
       "Name: CountryLive, dtype: int64"
      ]
     },
     "execution_count": 17,
     "metadata": {},
     "output_type": "execute_result"
    }
   ],
   "source": [
    "survey_english['CountryLive'].value_counts()"
   ]
  },
  {
   "cell_type": "code",
   "execution_count": 18,
   "metadata": {
    "collapsed": false
   },
   "outputs": [
    {
     "data": {
      "text/plain": [
       "CountryLive\n",
       "Australia                   413.518635\n",
       "Canada                      105.617701\n",
       "India                       134.569032\n",
       "Ireland                      41.292657\n",
       "United Kingdom               45.554351\n",
       "United States of America    224.310055\n",
       "Name: MoneyPerMonth, dtype: float64"
      ]
     },
     "execution_count": 18,
     "metadata": {},
     "output_type": "execute_result"
    }
   ],
   "source": [
    "survey_english.groupby('CountryLive')['MoneyPerMonth'].mean()"
   ]
  },
  {
   "cell_type": "markdown",
   "metadata": {},
   "source": [
    "## Dealing with Extreme Outliers\n",
    "\n",
    "We have calculated an average monthly spend for each country in our new, cleaned database. Before continuing, we should check for any extreme outliers. It is possible that there are incorrect and/or unrepresentative values included in our mean averages. We'll plot the average monthly spend for each country and look for outliers."
   ]
  },
  {
   "cell_type": "code",
   "execution_count": 19,
   "metadata": {
    "collapsed": false,
    "scrolled": false
   },
   "outputs": [
    {
     "name": "stderr",
     "output_type": "stream",
     "text": [
      "/dataquest/system/env/python3/lib/python3.4/site-packages/seaborn/categorical.py:454: FutureWarning:\n",
      "\n",
      "remove_na is deprecated and is a private function. Do not use.\n",
      "\n"
     ]
    },
    {
     "data": {
      "image/png": "[encoded data removed]",
      "text/plain": [
       "<matplotlib.figure.Figure at 0x7f07ebd00eb8>"
      ]
     },
     "metadata": {},
     "output_type": "display_data"
    }
   ],
   "source": [
    "plt.rcParams['figure.figsize'] = 15, 9\n",
    "sns.boxplot(y='MoneyPerMonth', x='CountryLive', data = survey_english)\n",
    "plt.title('Average Monthly Money to Spend on Learning by Country', fontsize=20, y=1.03)\n",
    "plt.xlabel('')\n",
    "plt.ylabel('Money Per Month')\n",
    "plt.show()\n",
    "\n",
    "# Warning raised because we are working with an old version of Seaborn in our Jupyter instance. This can safely be ignored."
   ]
  },
  {
   "cell_type": "markdown",
   "metadata": {},
   "source": [
    "There are definitely some extreme outliers in this chart. Let's limit our graph to a smaller range, and analyze it again."
   ]
  },
  {
   "cell_type": "code",
   "execution_count": 20,
   "metadata": {
    "collapsed": false
   },
   "outputs": [
    {
     "name": "stderr",
     "output_type": "stream",
     "text": [
      "/dataquest/system/env/python3/lib/python3.4/site-packages/seaborn/categorical.py:454: FutureWarning:\n",
      "\n",
      "remove_na is deprecated and is a private function. Do not use.\n",
      "\n"
     ]
    },
    {
     "data": {
      "image/png": "[encoded data removed]",
      "text/plain": [
       "<matplotlib.figure.Figure at 0x7f07a610aac8>"
      ]
     },
     "metadata": {},
     "output_type": "display_data"
    }
   ],
   "source": [
    "plt.rcParams['figure.figsize'] = 15, 9\n",
    "sns.boxplot(y='MoneyPerMonth', x='CountryLive', data = survey_english)\n",
    "plt.title('Average Monthly Money to Spend on Learning by Country', fontsize=20, y=1.03)\n",
    "plt.xlabel('')\n",
    "plt.ylabel('Money Per Month')\n",
    "plt.ylim(0,20500)\n",
    "plt.show()\n",
    "\n",
    "# Warning raised because we are working with an old version of Seaborn in our Jupyter instance. This can safely be ignored."
   ]
  },
  {
   "cell_type": "markdown",
   "metadata": {},
   "source": [
    "While our range is smaller, $10,000 or more per month still seems an unrealistic amount for someone to spend on learning and doesn't look representative of our data as a whole. Let's limit our graph once more."
   ]
  },
  {
   "cell_type": "code",
   "execution_count": 21,
   "metadata": {
    "collapsed": false
   },
   "outputs": [
    {
     "name": "stderr",
     "output_type": "stream",
     "text": [
      "/dataquest/system/env/python3/lib/python3.4/site-packages/seaborn/categorical.py:454: FutureWarning:\n",
      "\n",
      "remove_na is deprecated and is a private function. Do not use.\n",
      "\n"
     ]
    },
    {
     "data": {
      "image/png": "[encoded data removed]",
      "text/plain": [
       "<matplotlib.figure.Figure at 0x7f07a60ca8d0>"
      ]
     },
     "metadata": {},
     "output_type": "display_data"
    }
   ],
   "source": [
    "plt.rcParams['figure.figsize'] = 15, 9\n",
    "sns.boxplot(y='MoneyPerMonth', x='CountryLive', data = survey_english)\n",
    "plt.title('Average Monthly Money to Spend on Learning by Country', fontsize=20, y=1.03)\n",
    "plt.xlabel('')\n",
    "plt.ylabel('Money Per Month')\n",
    "plt.ylim(0,9000)\n",
    "plt.show()\n",
    "\n",
    "# Warning raised because we are working with an old version of Seaborn in our Jupyter instance. This can safely be ignored."
   ]
  },
  {
   "cell_type": "markdown",
   "metadata": {},
   "source": [
    "There are still some very high values, but at this scale, we can make better sense of what outliers to remove for further analysis. For most countries, the extreme outliers seem to be above \\\\$3,000. For the United States only, we'll set the maximum to $6,000. Let's remove any outliers above these values and recompute the mean."
   ]
  },
  {
   "cell_type": "code",
   "execution_count": 22,
   "metadata": {
    "collapsed": false,
    "scrolled": true
   },
   "outputs": [
    {
     "data": {
      "text/plain": [
       "CountryLive\n",
       "Australia                    53.337273\n",
       "Canada                       85.053070\n",
       "India                        64.761574\n",
       "Ireland                      41.292657\n",
       "United Kingdom               45.554351\n",
       "United States of America    141.501878\n",
       "Name: MoneyPerMonth, dtype: float64"
      ]
     },
     "execution_count": 22,
     "metadata": {},
     "output_type": "execute_result"
    }
   ],
   "source": [
    "outliers = survey_english[survey_english['CountryLive'].str.contains ('India|United Kingdom|Canada|Australia|Ireland') \n",
    "                         & (survey_english['MoneyPerMonth'] > 3000)]\n",
    "\n",
    "us_outliers = survey_english[(survey_english['CountryLive'] == 'United States of America')\n",
    "                             & (survey_english['MoneyPerMonth'] > 6000)]\n",
    "\n",
    "survey_english = survey_english.drop(outliers.index)\n",
    "survey_english = survey_english.drop(us_outliers.index)\n",
    "\n",
    "survey_english.groupby('CountryLive')['MoneyPerMonth'].mean()"
   ]
  },
  {
   "cell_type": "markdown",
   "metadata": {},
   "source": [
    "Before making our final analysis, let's revisit those respondents who have spent money on programming but were listed as having just started programming."
   ]
  },
  {
   "cell_type": "code",
   "execution_count": 23,
   "metadata": {
    "collapsed": false
   },
   "outputs": [
    {
     "data": {
      "text/plain": [
       "CountryLive\n",
       "Australia                    1000.0\n",
       "Canada                       2000.0\n",
       "India                         650.0\n",
       "United Kingdom                 40.0\n",
       "United States of America    14630.0\n",
       "Name: MoneyForLearning, dtype: float64"
      ]
     },
     "execution_count": 23,
     "metadata": {},
     "output_type": "execute_result"
    }
   ],
   "source": [
    "survey_zero_months.groupby('CountryLive')['MoneyForLearning'].sum()"
   ]
  },
  {
   "cell_type": "markdown",
   "metadata": {},
   "source": [
    "While the raw dollar amounts are fairly substantial, these amounts generally fall inline with our averages and don't appear to be a necessary consideration in our analysis."
   ]
  },
  {
   "cell_type": "markdown",
   "metadata": {},
   "source": [
    "## Choosing the Best Two Markets\n",
    "\n",
    "We now have all of the data necessary for our recommendation. Let's look at the average monthly spend and number of potential students for each country one more time before making our recommendations."
   ]
  },
  {
   "cell_type": "code",
   "execution_count": 24,
   "metadata": {
    "collapsed": false
   },
   "outputs": [
    {
     "name": "stderr",
     "output_type": "stream",
     "text": [
      "/dataquest/system/env/python3/lib/python3.4/site-packages/seaborn/categorical.py:1428: FutureWarning:\n",
      "\n",
      "remove_na is deprecated and is a private function. Do not use.\n",
      "\n"
     ]
    },
    {
     "data": {
      "image/png": "[encoded data removed]",
      "text/plain": [
       "<matplotlib.figure.Figure at 0x7f07a614f7f0>"
      ]
     },
     "metadata": {},
     "output_type": "display_data"
    }
   ],
   "source": [
    "plt.rcParams['figure.figsize'] = 15, 9\n",
    "sns.barplot(y='MoneyPerMonth', x='CountryLive', data = survey_english, ci=None)\n",
    "plt.title('Average Monthly Money to Spend on Learning by Country', fontsize=20, y=1.03)\n",
    "plt.xlabel('')\n",
    "plt.ylabel('Money Per Month')\n",
    "plt.ylim(0, 150)\n",
    "plt.show()\n",
    "\n",
    "# Warning raised because we are working with an old version of Seaborn in our Jupyter instance. This can safely be ignored."
   ]
  },
  {
   "cell_type": "code",
   "execution_count": 25,
   "metadata": {
    "collapsed": false
   },
   "outputs": [
    {
     "name": "stderr",
     "output_type": "stream",
     "text": [
      "/dataquest/system/env/python3/lib/python3.4/site-packages/seaborn/categorical.py:1428: FutureWarning:\n",
      "\n",
      "remove_na is deprecated and is a private function. Do not use.\n",
      "\n"
     ]
    },
    {
     "data": {
      "image/png": "[encoded data removed]",
      "text/plain": [
       "<matplotlib.figure.Figure at 0x7f07a5ee5cf8>"
      ]
     },
     "metadata": {},
     "output_type": "display_data"
    }
   ],
   "source": [
    "plt.rcParams['figure.figsize'] = 15, 9\n",
    "sns.barplot(x='CountryLive', y='Age', data=survey_english,\n",
    "           estimator=lambda x: len(x) / len(survey_english) * 100)\n",
    "plt.title('Percentage of Potential Students by Country', fontsize=20, y=1.03)\n",
    "plt.xlabel('')\n",
    "plt.ylabel('Percentage of Potential Students')\n",
    "plt.ylim(0, 73)\n",
    "plt.show()\n",
    "\n",
    "# Warning raised because we are working with an old version of Seaborn in our Jupyter instance. This can safely be ignored."
   ]
  },
  {
   "cell_type": "markdown",
   "metadata": {},
   "source": [
    "## Recommendation\n",
    "\n",
    "From the graphs, it is obvious that the United States is the best market in which to advertise. The options for the second market is between Canada and India. Students in Canada seem to be willing and able to spend slightly more than those in India, but the average spend in India is also more than our monthly subscription cost of $59 a month. India has nearly twice as many potential customers according to our database, but the population difference is even greater as India has nearly 40 times as many people as Canada. While not everyone in India speaks English, the number of English speakers in India is nearly four times that of Canada. Considering all of the above information, there are two recommended approaches:\n",
    "\n",
    "1. Advertise only in the United States. Over 70% of potential students in our analysis lived in the US, and the average monthly budget was about twice as much as the other English-speaking countries. The best short-turn return on investment will be to spend all of the advertising budget in the United States.\n",
    "\n",
    "2. Advertise in the United States and in India. While in the short-term, advertising in the United States should produce much greater returns than in any other country, India is potentially an enormous market. India is already has the second-most English speakers of any nation in the world, and this is only expected to increase. Additionally, India's economy is one of the fastest growing. While India may not be as prosperous a nation as other English-speaking countries on a per capita basis, the potential for growth is tremendous. By getting our foot in the proverbial door now, we offer ourselves the potential to reap the rewards of this incredible potential. While this strategy is likely to be less profitable in the short-term, getting our name known in India could be very lucrative in the future.\n",
    "\n",
    "Our personal recommendation would be to focus the majority of the advertising budget on the United States but to reserve 25-30% to advertise in India. This investment should produce additional business in the short-term as India is the second-best market for advertising in the current economic climate. However, the potential for growth in India means that a smaller investment today could potentially bring a large return as India continues its economic growth."
   ]
  },
  {
   "cell_type": "code",
   "execution_count": null,
   "metadata": {
    "collapsed": true
   },
   "outputs": [],
   "source": []
  }
 ],
 "metadata": {
  "kernelspec": {
   "display_name": "Python 3",
   "language": "python",
   "name": "python3"
  },
  "language_info": {
   "codemirror_mode": {
    "name": "ipython",
    "version": 3
   },
   "file_extension": ".py",
   "mimetype": "text/x-python",
   "name": "python",
   "nbconvert_exporter": "python",
   "pygments_lexer": "ipython3",
   "version": "3.4.3"
  }
 },
 "nbformat": 4,
 "nbformat_minor": 2
}
